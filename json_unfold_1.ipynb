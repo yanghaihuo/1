{
 "cells": [
  {
   "cell_type": "code",
   "execution_count": 1,
   "metadata": {},
   "outputs": [],
   "source": [
    "import json\n",
    "import pandas as pd\n",
    "import traceback"
   ]
  },
  {
   "cell_type": "code",
   "execution_count": 3,
   "metadata": {},
   "outputs": [
    {
     "data": {
      "text/html": [
       "<div>\n",
       "<style scoped>\n",
       "    .dataframe tbody tr th:only-of-type {\n",
       "        vertical-align: middle;\n",
       "    }\n",
       "\n",
       "    .dataframe tbody tr th {\n",
       "        vertical-align: top;\n",
       "    }\n",
       "\n",
       "    .dataframe thead th {\n",
       "        text-align: right;\n",
       "    }\n",
       "</style>\n",
       "<table border=\"1\" class=\"dataframe\">\n",
       "  <thead>\n",
       "    <tr style=\"text-align: right;\">\n",
       "      <th></th>\n",
       "      <th>序号</th>\n",
       "      <th>标注人员</th>\n",
       "      <th>标注结果</th>\n",
       "    </tr>\n",
       "  </thead>\n",
       "  <tbody>\n",
       "    <tr>\n",
       "      <th>0</th>\n",
       "      <td>1</td>\n",
       "      <td>王小二</td>\n",
       "      <td>[{\"tags\":[\"123\",\"231\"],\"username\":\"张三\",\"infos\"...</td>\n",
       "    </tr>\n",
       "    <tr>\n",
       "      <th>1</th>\n",
       "      <td>2</td>\n",
       "      <td>王小二</td>\n",
       "      <td>NaN</td>\n",
       "    </tr>\n",
       "    <tr>\n",
       "      <th>2</th>\n",
       "      <td>3</td>\n",
       "      <td>杨六</td>\n",
       "      <td>{\"tags\":[\"96\",\"f2931\"],\"username\":\"楼满月\",\"infos...</td>\n",
       "    </tr>\n",
       "  </tbody>\n",
       "</table>\n",
       "</div>"
      ],
      "text/plain": [
       "   序号 标注人员                                               标注结果\n",
       "0   1  王小二  [{\"tags\":[\"123\",\"231\"],\"username\":\"张三\",\"infos\"...\n",
       "1   2  王小二                                                NaN\n",
       "2   3   杨六  {\"tags\":[\"96\",\"f2931\"],\"username\":\"楼满月\",\"infos..."
      ]
     },
     "execution_count": 3,
     "metadata": {},
     "output_type": "execute_result"
    }
   ],
   "source": [
    "df=pd.read_excel(r'F:\\360MoveData\\Users\\Administrator\\Desktop\\data.xlsx')\n",
    "df.head()"
   ]
  },
  {
   "cell_type": "code",
   "execution_count": 4,
   "metadata": {},
   "outputs": [],
   "source": [
    "def df_to_json(df):\n",
    "    #找到json列\n",
    "    jc=''\n",
    "    for c in df.columns:\n",
    "        a0=str(list(df[c]))\n",
    "        if '{' in a0 and ':' in a0 and '[' in a0:\n",
    "            jc=c\n",
    "    if jc=='':\n",
    "        return []\n",
    "    res=[]\n",
    "    for i,c in df.iterrows():\n",
    "        r0={}\n",
    "        for col in df.columns:\n",
    "            if col!=jc:\n",
    "                r0[col]=c[col]\n",
    "            else:\n",
    "                try:\n",
    "                    if type(c[col])!=str:\n",
    "                        r0[col]=[]\n",
    "                    else:\n",
    "                        r0[col]=json.loads(c[col])\n",
    "                except:\n",
    "                    print(traceback.format_exc())\n",
    "        res.append(r0.copy())\n",
    "    return res\n",
    "r00=df_to_json(df)"
   ]
  },
  {
   "cell_type": "code",
   "execution_count": 5,
   "metadata": {},
   "outputs": [],
   "source": [
    "def unfolds(js):\n",
    "    ojs={}\n",
    "    for k,v in js.items():\n",
    "        if type(v)==dict:\n",
    "            ojs.update(unfolds(v))\n",
    "        else:\n",
    "            ojs[k]=v\n",
    "    return ojs"
   ]
  },
  {
   "cell_type": "code",
   "execution_count": 6,
   "metadata": {},
   "outputs": [],
   "source": [
    "def ex_aa(aa,bb):\n",
    "    f=0\n",
    "    rc=bb.copy()\n",
    "    aa=unfolds(aa)\n",
    "    ks=[]\n",
    "    for k,v in aa.items():\n",
    "        if type(v)!=list:\n",
    "            rc[k]=v\n",
    "        elif v==[]:\n",
    "            pass\n",
    "            #rc[k]='[]'\n",
    "        else:#list\n",
    "            if type(v[0])==dict:\n",
    "                f+=1\n",
    "                ks.append(k) #假设有多个列表的情况\n",
    "            else:\n",
    "                rc[k]=str(v)\n",
    "    if f==0:\n",
    "        rc.update(bb)\n",
    "        return [rc]\n",
    "    else:\n",
    "        w=[]\n",
    "        for i in aa[ks[0]]:\n",
    "            w.extend(ex_aa(i,rc))\n",
    "        return w"
   ]
  },
  {
   "cell_type": "code",
   "execution_count": 7,
   "metadata": {},
   "outputs": [
    {
     "data": {
      "text/plain": [
       "[{'序号': 1,\n",
       "  '标注人员': '王小二',\n",
       "  'tags': \"['123', '231']\",\n",
       "  'username': '张三',\n",
       "  '地点': '北京',\n",
       "  '爱好': '足球'},\n",
       " {'序号': 1,\n",
       "  '标注人员': '王小二',\n",
       "  'tags': \"['123', '231']\",\n",
       "  'username': '张三',\n",
       "  '地点': '天津',\n",
       "  '爱好': '篮球'},\n",
       " {'序号': 1,\n",
       "  '标注人员': '王小二',\n",
       "  'tags': \"['23', '2931']\",\n",
       "  'username': '火星',\n",
       "  '地点': '天津',\n",
       "  '爱好': '足球'},\n",
       " {'序号': 2, '标注人员': '王小二'},\n",
       " {'序号': 3,\n",
       "  '标注人员': '杨六',\n",
       "  'tags': \"['96', 'f2931']\",\n",
       "  'username': '楼满月',\n",
       "  '地点': '湖北',\n",
       "  '爱好': '足球'}]"
      ]
     },
     "execution_count": 7,
     "metadata": {},
     "output_type": "execute_result"
    }
   ],
   "source": [
    "res=[]\n",
    "for i in r00:\n",
    "    res.extend(ex_aa(i,{}))\n",
    "res"
   ]
  },
  {
   "cell_type": "code",
   "execution_count": null,
   "metadata": {},
   "outputs": [],
   "source": []
  },
  {
   "cell_type": "code",
   "execution_count": null,
   "metadata": {},
   "outputs": [],
   "source": []
  },
  {
   "cell_type": "code",
   "execution_count": 8,
   "metadata": {},
   "outputs": [
    {
     "data": {
      "text/html": [
       "<div>\n",
       "<style scoped>\n",
       "    .dataframe tbody tr th:only-of-type {\n",
       "        vertical-align: middle;\n",
       "    }\n",
       "\n",
       "    .dataframe tbody tr th {\n",
       "        vertical-align: top;\n",
       "    }\n",
       "\n",
       "    .dataframe thead th {\n",
       "        text-align: right;\n",
       "    }\n",
       "</style>\n",
       "<table border=\"1\" class=\"dataframe\">\n",
       "  <thead>\n",
       "    <tr style=\"text-align: right;\">\n",
       "      <th></th>\n",
       "      <th>tags</th>\n",
       "      <th>username</th>\n",
       "      <th>地点</th>\n",
       "      <th>序号</th>\n",
       "      <th>标注人员</th>\n",
       "      <th>爱好</th>\n",
       "    </tr>\n",
       "  </thead>\n",
       "  <tbody>\n",
       "    <tr>\n",
       "      <th>0</th>\n",
       "      <td>['123', '231']</td>\n",
       "      <td>张三</td>\n",
       "      <td>北京</td>\n",
       "      <td>1</td>\n",
       "      <td>王小二</td>\n",
       "      <td>足球</td>\n",
       "    </tr>\n",
       "    <tr>\n",
       "      <th>1</th>\n",
       "      <td>['123', '231']</td>\n",
       "      <td>张三</td>\n",
       "      <td>天津</td>\n",
       "      <td>1</td>\n",
       "      <td>王小二</td>\n",
       "      <td>篮球</td>\n",
       "    </tr>\n",
       "    <tr>\n",
       "      <th>2</th>\n",
       "      <td>['23', '2931']</td>\n",
       "      <td>火星</td>\n",
       "      <td>天津</td>\n",
       "      <td>1</td>\n",
       "      <td>王小二</td>\n",
       "      <td>足球</td>\n",
       "    </tr>\n",
       "    <tr>\n",
       "      <th>3</th>\n",
       "      <td>NaN</td>\n",
       "      <td>NaN</td>\n",
       "      <td>NaN</td>\n",
       "      <td>2</td>\n",
       "      <td>王小二</td>\n",
       "      <td>NaN</td>\n",
       "    </tr>\n",
       "    <tr>\n",
       "      <th>4</th>\n",
       "      <td>['96', 'f2931']</td>\n",
       "      <td>楼满月</td>\n",
       "      <td>湖北</td>\n",
       "      <td>3</td>\n",
       "      <td>杨六</td>\n",
       "      <td>足球</td>\n",
       "    </tr>\n",
       "  </tbody>\n",
       "</table>\n",
       "</div>"
      ],
      "text/plain": [
       "              tags username   地点  序号 标注人员   爱好\n",
       "0   ['123', '231']       张三   北京   1  王小二   足球\n",
       "1   ['123', '231']       张三   天津   1  王小二   篮球\n",
       "2   ['23', '2931']       火星   天津   1  王小二   足球\n",
       "3              NaN      NaN  NaN   2  王小二  NaN\n",
       "4  ['96', 'f2931']      楼满月   湖北   3   杨六   足球"
      ]
     },
     "execution_count": 8,
     "metadata": {},
     "output_type": "execute_result"
    }
   ],
   "source": [
    "pd.DataFrame(res)"
   ]
  },
  {
   "cell_type": "code",
   "execution_count": 9,
   "metadata": {},
   "outputs": [],
   "source": [
    "out=pd.DataFrame(res)\n",
    "out.to_excel('data-out.xlsx',index=False)"
   ]
  },
  {
   "cell_type": "code",
   "execution_count": null,
   "metadata": {},
   "outputs": [],
   "source": []
  },
  {
   "cell_type": "code",
   "execution_count": null,
   "metadata": {},
   "outputs": [],
   "source": []
  },
  {
   "cell_type": "code",
   "execution_count": null,
   "metadata": {},
   "outputs": [],
   "source": []
  },
  {
   "cell_type": "code",
   "execution_count": null,
   "metadata": {},
   "outputs": [],
   "source": []
  },
  {
   "cell_type": "code",
   "execution_count": null,
   "metadata": {},
   "outputs": [],
   "source": []
  },
  {
   "cell_type": "code",
   "execution_count": null,
   "metadata": {},
   "outputs": [],
   "source": []
  },
  {
   "cell_type": "code",
   "execution_count": null,
   "metadata": {},
   "outputs": [],
   "source": []
  },
  {
   "cell_type": "code",
   "execution_count": 4,
   "metadata": {},
   "outputs": [
    {
     "data": {
      "text/plain": [
       "[{'序号': 1,\n",
       "  '标注人员': '王小二',\n",
       "  '标注结果': [{'tags': ['123', '231'],\n",
       "    'username': '张三',\n",
       "    'infos': [{'地点': '北京', '爱好': '足球'}, {'地点': '天津', '爱好': '篮球'}]},\n",
       "   {'tags': ['23', '2931'],\n",
       "    'username': '火星',\n",
       "    'infos': [{'地点': '天津', '爱好': '足球'}]}]},\n",
       " {'序号': 2, '标注人员': '王小二', '标注结果': []},\n",
       " {'序号': 3,\n",
       "  '标注人员': '杨六',\n",
       "  '标注结果': {'tags': ['96', 'f2931'],\n",
       "   'username': '楼满月',\n",
       "   'infos': [{'地点': '湖北', '爱好': '足球'}]}}]"
      ]
     },
     "execution_count": 4,
     "metadata": {},
     "output_type": "execute_result"
    }
   ],
   "source": [
    "r00"
   ]
  },
  {
   "cell_type": "code",
   "execution_count": 41,
   "metadata": {},
   "outputs": [
    {
     "data": {
      "text/plain": [
       "[{'b': 2, 'aa': 1, 'aaa': 31, 'bbb': 32},\n",
       " {'b': 2, 'aa': 1, 'aaa': 41, 'bbb': 42},\n",
       " {'b': 2, 'aa': 11}]"
      ]
     },
     "execution_count": 41,
     "metadata": {},
     "output_type": "execute_result"
    }
   ],
   "source": [
    "aa={'a':[{'aa':1,'bb':[{'aaa':31,'bbb':32},{'aaa':41,'bbb':42}]},{'aa':11}],'b':2}\n",
    "ex_aa(aa,{})"
   ]
  },
  {
   "cell_type": "code",
   "execution_count": null,
   "metadata": {},
   "outputs": [],
   "source": []
  }
 ],
 "metadata": {
  "kernelspec": {
   "display_name": "Python 3",
   "language": "python",
   "name": "python3"
  },
  "language_info": {
   "codemirror_mode": {
    "name": "ipython",
    "version": 3
   },
   "file_extension": ".py",
   "mimetype": "text/x-python",
   "name": "python",
   "nbconvert_exporter": "python",
   "pygments_lexer": "ipython3",
   "version": "3.7.3"
  }
 },
 "nbformat": 4,
 "nbformat_minor": 2
}
