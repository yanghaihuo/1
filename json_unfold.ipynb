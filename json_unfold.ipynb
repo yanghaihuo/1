{
 "cells": [
  {
   "cell_type": "code",
   "execution_count": 1,
   "metadata": {
    "ExecuteTime": {
     "end_time": "2020-06-09T19:15:29.632487Z",
     "start_time": "2020-06-09T19:15:28.755436Z"
    }
   },
   "outputs": [],
   "source": [
    "import json\n",
    "import copy\n",
    "from pprint import pprint\n",
    "import pandas as pd\n",
    "from collections import OrderedDict\n",
    "import os "
   ]
  },
  {
   "cell_type": "code",
   "execution_count": 2,
   "metadata": {
    "ExecuteTime": {
     "end_time": "2020-06-09T19:15:29.653488Z",
     "start_time": "2020-06-09T19:15:29.636487Z"
    }
   },
   "outputs": [],
   "source": [
    "def json_unfold(df):\n",
    "    result = []\n",
    "    for i, row in df.iterrows():\n",
    "        colums = row.index.values\n",
    "        ds = [OrderedDict()]\n",
    "        for colum in colums:\n",
    "#             print(colum, row[colum], type(row[colum]))\n",
    "            try:\n",
    "                if isinstance(row[colum], list) or isinstance(\n",
    "                        row[colum], dict):\n",
    "                    json_o = row[colum]\n",
    "                else:\n",
    "                    json_o = json.loads(row[colum])\n",
    "                if isinstance(json_o, list) and len(json_o) > 0 and isinstance(\n",
    "                        json_o[0], dict):\n",
    "                    bak = copy.deepcopy(ds[0])\n",
    "                    for i, o in enumerate(json_o):\n",
    "                        if i > 0:\n",
    "                            d = copy.deepcopy(bak)\n",
    "                            ds.append(d)\n",
    "                        else:\n",
    "                            d = ds[0]\n",
    "                        for k, v in o.items():\n",
    "                            d[f\"{colum}-{k}\"] = v\n",
    "                else:\n",
    "                    for k, v in json_o.items():\n",
    "                        for d in ds:\n",
    "                            d[f\"{colum}-{k}\"] = v\n",
    "            except:\n",
    "                for d in ds:\n",
    "                    d[colum] = row[colum]\n",
    "        for d in ds:\n",
    "            result.append(d)\n",
    "\n",
    "    return pd.DataFrame(result).dropna(axis=1, how='all')"
   ]
  },
  {
   "cell_type": "code",
   "execution_count": 3,
   "metadata": {
    "ExecuteTime": {
     "end_time": "2020-06-09T19:15:29.845499Z",
     "start_time": "2020-06-09T19:15:29.659488Z"
    }
   },
   "outputs": [
    {
     "data": {
      "text/html": [
       "<div>\n",
       "<style scoped>\n",
       "    .dataframe tbody tr th:only-of-type {\n",
       "        vertical-align: middle;\n",
       "    }\n",
       "\n",
       "    .dataframe tbody tr th {\n",
       "        vertical-align: top;\n",
       "    }\n",
       "\n",
       "    .dataframe thead th {\n",
       "        text-align: right;\n",
       "    }\n",
       "</style>\n",
       "<table border=\"1\" class=\"dataframe\">\n",
       "  <thead>\n",
       "    <tr style=\"text-align: right;\">\n",
       "      <th></th>\n",
       "      <th>序号</th>\n",
       "      <th>标注人员</th>\n",
       "      <th>标注结果</th>\n",
       "    </tr>\n",
       "  </thead>\n",
       "  <tbody>\n",
       "    <tr>\n",
       "      <th>0</th>\n",
       "      <td>2</td>\n",
       "      <td>王小二</td>\n",
       "      <td>NaN</td>\n",
       "    </tr>\n",
       "    <tr>\n",
       "      <th>1</th>\n",
       "      <td>3</td>\n",
       "      <td>杨六</td>\n",
       "      <td>{\"tags\":[\"96\",\"f2931\"],\"username\":\"楼满月\",\"infos...</td>\n",
       "    </tr>\n",
       "  </tbody>\n",
       "</table>\n",
       "</div>"
      ],
      "text/plain": [
       "   序号 标注人员                                               标注结果\n",
       "0   2  王小二                                                NaN\n",
       "1   3   杨六  {\"tags\":[\"96\",\"f2931\"],\"username\":\"楼满月\",\"infos..."
      ]
     },
     "metadata": {},
     "output_type": "display_data"
    },
    {
     "data": {
      "text/html": [
       "<div>\n",
       "<style scoped>\n",
       "    .dataframe tbody tr th:only-of-type {\n",
       "        vertical-align: middle;\n",
       "    }\n",
       "\n",
       "    .dataframe tbody tr th {\n",
       "        vertical-align: top;\n",
       "    }\n",
       "\n",
       "    .dataframe thead th {\n",
       "        text-align: right;\n",
       "    }\n",
       "</style>\n",
       "<table border=\"1\" class=\"dataframe\">\n",
       "  <thead>\n",
       "    <tr style=\"text-align: right;\">\n",
       "      <th></th>\n",
       "      <th>序号</th>\n",
       "      <th>标注人员</th>\n",
       "      <th>标注结果-tags</th>\n",
       "      <th>标注结果-username</th>\n",
       "      <th>标注结果-infos</th>\n",
       "    </tr>\n",
       "  </thead>\n",
       "  <tbody>\n",
       "    <tr>\n",
       "      <th>0</th>\n",
       "      <td>2</td>\n",
       "      <td>王小二</td>\n",
       "      <td>NaN</td>\n",
       "      <td>NaN</td>\n",
       "      <td>NaN</td>\n",
       "    </tr>\n",
       "    <tr>\n",
       "      <th>1</th>\n",
       "      <td>3</td>\n",
       "      <td>杨六</td>\n",
       "      <td>[96, f2931]</td>\n",
       "      <td>楼满月</td>\n",
       "      <td>[{'地点': '湖北', '爱好': '足球'}]</td>\n",
       "    </tr>\n",
       "  </tbody>\n",
       "</table>\n",
       "</div>"
      ],
      "text/plain": [
       "   序号 标注人员    标注结果-tags 标注结果-username                  标注结果-infos\n",
       "0   2  王小二          NaN           NaN                         NaN\n",
       "1   3   杨六  [96, f2931]           楼满月  [{'地点': '湖北', '爱好': '足球'}]"
      ]
     },
     "metadata": {},
     "output_type": "display_data"
    },
    {
     "data": {
      "text/html": [
       "<div>\n",
       "<style scoped>\n",
       "    .dataframe tbody tr th:only-of-type {\n",
       "        vertical-align: middle;\n",
       "    }\n",
       "\n",
       "    .dataframe tbody tr th {\n",
       "        vertical-align: top;\n",
       "    }\n",
       "\n",
       "    .dataframe thead th {\n",
       "        text-align: right;\n",
       "    }\n",
       "</style>\n",
       "<table border=\"1\" class=\"dataframe\">\n",
       "  <thead>\n",
       "    <tr style=\"text-align: right;\">\n",
       "      <th></th>\n",
       "      <th>序号</th>\n",
       "      <th>标注人员</th>\n",
       "      <th>标注结果-tags</th>\n",
       "      <th>标注结果-username</th>\n",
       "      <th>标注结果-infos-地点</th>\n",
       "      <th>标注结果-infos-爱好</th>\n",
       "    </tr>\n",
       "  </thead>\n",
       "  <tbody>\n",
       "    <tr>\n",
       "      <th>0</th>\n",
       "      <td>2</td>\n",
       "      <td>王小二</td>\n",
       "      <td>NaN</td>\n",
       "      <td>NaN</td>\n",
       "      <td>NaN</td>\n",
       "      <td>NaN</td>\n",
       "    </tr>\n",
       "    <tr>\n",
       "      <th>1</th>\n",
       "      <td>3</td>\n",
       "      <td>杨六</td>\n",
       "      <td>[96, f2931]</td>\n",
       "      <td>楼满月</td>\n",
       "      <td>湖北</td>\n",
       "      <td>足球</td>\n",
       "    </tr>\n",
       "  </tbody>\n",
       "</table>\n",
       "</div>"
      ],
      "text/plain": [
       "   序号 标注人员    标注结果-tags 标注结果-username 标注结果-infos-地点 标注结果-infos-爱好\n",
       "0   2  王小二          NaN           NaN           NaN           NaN\n",
       "1   3   杨六  [96, f2931]           楼满月            湖北            足球"
      ]
     },
     "metadata": {},
     "output_type": "display_data"
    }
   ],
   "source": [
    "os.chdir(r'F:\\360MoveData\\Users\\Administrator\\Desktop')\n",
    "df = pd.read_excel('data1.xlsx')\n",
    "display(df)\n",
    "for i in range(2):\n",
    "    df = json_unfold(df)\n",
    "    display(df)"
   ]
  }
 ],
 "metadata": {
  "kernelspec": {
   "display_name": "Python 3",
   "language": "python",
   "name": "python3"
  },
  "language_info": {
   "codemirror_mode": {
    "name": "ipython",
    "version": 3
   },
   "file_extension": ".py",
   "mimetype": "text/x-python",
   "name": "python",
   "nbconvert_exporter": "python",
   "pygments_lexer": "ipython3",
   "version": "3.7.3"
  },
  "toc": {
   "base_numbering": 1,
   "nav_menu": {},
   "number_sections": true,
   "sideBar": true,
   "skip_h1_title": false,
   "title_cell": "Table of Contents",
   "title_sidebar": "Contents",
   "toc_cell": false,
   "toc_position": {},
   "toc_section_display": true,
   "toc_window_display": false
  }
 },
 "nbformat": 4,
 "nbformat_minor": 2
}
